{
 "cells": [
  {
   "cell_type": "markdown",
   "metadata": {
    "button": false,
    "id": "SzPE54CYM1kJ",
    "new_sheet": false,
    "run_control": {
     "read_only": false
    }
   },
   "source": [
    "<h1 align=center><font size = 10> Classification with Python</font></h1>"
   ]
  },
  {
   "cell_type": "markdown",
   "metadata": {
    "button": false,
    "id": "XPfbiVLfM1kK",
    "new_sheet": false,
    "run_control": {
     "read_only": false
    }
   },
   "source": [
    "In this notebook, we try to practice all the classification algorithms that we have learned in this course.\n",
    "\n",
    "We load a dataset using the Pandas library, and apply the following algorithms, and find the best one for this specific dataset by accuracy evaluation methods.\n",
    "\n",
    "Lets first load required libraries:"
   ]
  },
  {
   "cell_type": "code",
   "execution_count": 1,
   "metadata": {
    "button": false,
    "id": "vcBmcLcqM1kL",
    "new_sheet": false,
    "run_control": {
     "read_only": false
    }
   },
   "outputs": [
    {
     "name": "stderr",
     "output_type": "stream",
     "text": [
      "Matplotlib is building the font cache; this may take a moment.\n"
     ]
    }
   ],
   "source": [
    "import matplotlib.pyplot as plt\n",
    "from matplotlib.ticker import NullFormatter\n",
    "import pandas as pd\n",
    "import numpy as np\n",
    "import matplotlib.ticker as ticker\n",
    "from sklearn import preprocessing\n",
    "from sklearn import metrics\n",
    "\n",
    "from sklearn import preprocessing as preproc\n",
    "\n",
    "%matplotlib inline\n",
    "%matplotlib inline"
   ]
  },
  {
   "cell_type": "markdown",
   "metadata": {
    "id": "PKehb7okM1kN"
   },
   "source": [
    "# Mandatory part (85%  of the total score)"
   ]
  },
  {
   "cell_type": "markdown",
   "metadata": {
    "id": "1OXuDMKku37m"
   },
   "source": []
  },
  {
   "cell_type": "markdown",
   "metadata": {
    "button": false,
    "id": "ZAL75IefM1kO",
    "new_sheet": false,
    "run_control": {
     "read_only": false
    }
   },
   "source": [
    "## About dataset"
   ]
  },
  {
   "cell_type": "markdown",
   "metadata": {
    "button": false,
    "id": "yrPdRO--M1kO",
    "new_sheet": false,
    "run_control": {
     "read_only": false
    }
   },
   "source": [
    "The Pima is a group of Native Americans living in Arizona. A genetic predisposition allowed this group to survive normally to a diet poor of carbohydrates for years. In recent years, a sudden shift from traditional agricultural crops to processed foods, together with a decline in physical activity, has made them develop the highest prevalence of type 2 diabetes and for this reason, they have been subject of many studies.\n",
    "\n",
    "The dataset includes data from 768 women with 8 characteristics, in particular:\n",
    "\n",
    "- Number of times pregnant\n",
    "- Plasma glucose concentration a 2 hours in an oral glucose tolerance test\n",
    "- Diastolic blood pressure (mm Hg)\n",
    "- Triceps skinfold thickness (mm)\n",
    "- 2-Hour serum insulin (mu U/ml)\n",
    "- Body mass index (weight in kg/(height in m)^2)\n",
    "- Diabetes pedigree function\n",
    "- Age (years)\n",
    "- The last column of the dataset indicates if the person has been diagnosed with diabetes (1) or not (0)"
   ]
  },
  {
   "cell_type": "markdown",
   "metadata": {
    "id": "dzJFrqwyM1kP"
   },
   "source": [
    "## The problem:"
   ]
  },
  {
   "cell_type": "markdown",
   "metadata": {
    "id": "WFl47FBcM1kQ"
   },
   "source": [
    "The type of dataset and problem is a classic supervised binary classification. Given a number of elements with certain characteristics (features), we want to build a machine learning model to identify people affected by type 2 diabetes.\n",
    "\n",
    "To solve the problem we will have to analyze the data, do any required transformation and nomarlization, apply a machine learning algorithm, train a model, check the performance of the trained model and iterate with other algorithms until we find the most performant for our type of dataset."
   ]
  },
  {
   "cell_type": "markdown",
   "metadata": {
    "button": false,
    "id": "Diy5tSZ7M1kQ",
    "new_sheet": false,
    "run_control": {
     "read_only": false
    }
   },
   "source": [
    "## Load Data From CSV File  "
   ]
  },
  {
   "cell_type": "markdown",
   "metadata": {
    "id": "qdIctwmZM1kR"
   },
   "source": [
    "### 1. Load the dataset from the 'pima-indians-diabetes.csv' file.\n",
    "\n",
    "Because the CSV doesn't contain any header, we add column names using the description from the original dataset website:\n",
    "\n",
    "dataset.columns = [\"NumTimesPrg\", \"PlGlcConc\", \"BloodP\", \"SkinThick\", \"TwoHourSerIns\", \"BMI\", \"DiPedFunc\", \"Age\", \"HasDiabetes\"]"
   ]
  },
  {
   "cell_type": "code",
   "execution_count": 2,
   "metadata": {
    "button": false,
    "id": "K-TmhZ8vM1kS",
    "new_sheet": false,
    "run_control": {
     "read_only": false
    }
   },
   "outputs": [
    {
     "data": {
      "text/html": [
       "<div>\n",
       "<style scoped>\n",
       "    .dataframe tbody tr th:only-of-type {\n",
       "        vertical-align: middle;\n",
       "    }\n",
       "\n",
       "    .dataframe tbody tr th {\n",
       "        vertical-align: top;\n",
       "    }\n",
       "\n",
       "    .dataframe thead th {\n",
       "        text-align: right;\n",
       "    }\n",
       "</style>\n",
       "<table border=\"1\" class=\"dataframe\">\n",
       "  <thead>\n",
       "    <tr style=\"text-align: right;\">\n",
       "      <th></th>\n",
       "      <th>NumTimesPrg</th>\n",
       "      <th>PlGlcConc</th>\n",
       "      <th>BloodP</th>\n",
       "      <th>SkinThick</th>\n",
       "      <th>TwoHourSerIns</th>\n",
       "      <th>BMI</th>\n",
       "      <th>DiPedFunc</th>\n",
       "      <th>Age</th>\n",
       "      <th>HasDiabetes</th>\n",
       "    </tr>\n",
       "  </thead>\n",
       "  <tbody>\n",
       "    <tr>\n",
       "      <th>0</th>\n",
       "      <td>6</td>\n",
       "      <td>148</td>\n",
       "      <td>72</td>\n",
       "      <td>35</td>\n",
       "      <td>0</td>\n",
       "      <td>33.6</td>\n",
       "      <td>0.627</td>\n",
       "      <td>50</td>\n",
       "      <td>1</td>\n",
       "    </tr>\n",
       "    <tr>\n",
       "      <th>1</th>\n",
       "      <td>1</td>\n",
       "      <td>85</td>\n",
       "      <td>66</td>\n",
       "      <td>29</td>\n",
       "      <td>0</td>\n",
       "      <td>26.6</td>\n",
       "      <td>0.351</td>\n",
       "      <td>31</td>\n",
       "      <td>0</td>\n",
       "    </tr>\n",
       "    <tr>\n",
       "      <th>2</th>\n",
       "      <td>8</td>\n",
       "      <td>183</td>\n",
       "      <td>64</td>\n",
       "      <td>0</td>\n",
       "      <td>0</td>\n",
       "      <td>23.3</td>\n",
       "      <td>0.672</td>\n",
       "      <td>32</td>\n",
       "      <td>1</td>\n",
       "    </tr>\n",
       "    <tr>\n",
       "      <th>3</th>\n",
       "      <td>1</td>\n",
       "      <td>89</td>\n",
       "      <td>66</td>\n",
       "      <td>23</td>\n",
       "      <td>94</td>\n",
       "      <td>28.1</td>\n",
       "      <td>0.167</td>\n",
       "      <td>21</td>\n",
       "      <td>0</td>\n",
       "    </tr>\n",
       "    <tr>\n",
       "      <th>4</th>\n",
       "      <td>0</td>\n",
       "      <td>137</td>\n",
       "      <td>40</td>\n",
       "      <td>35</td>\n",
       "      <td>168</td>\n",
       "      <td>43.1</td>\n",
       "      <td>2.288</td>\n",
       "      <td>33</td>\n",
       "      <td>1</td>\n",
       "    </tr>\n",
       "  </tbody>\n",
       "</table>\n",
       "</div>"
      ],
      "text/plain": [
       "   NumTimesPrg  PlGlcConc  BloodP  SkinThick  TwoHourSerIns   BMI  DiPedFunc  \\\n",
       "0            6        148      72         35              0  33.6      0.627   \n",
       "1            1         85      66         29              0  26.6      0.351   \n",
       "2            8        183      64          0              0  23.3      0.672   \n",
       "3            1         89      66         23             94  28.1      0.167   \n",
       "4            0        137      40         35            168  43.1      2.288   \n",
       "\n",
       "   Age  HasDiabetes  \n",
       "0   50            1  \n",
       "1   31            0  \n",
       "2   32            1  \n",
       "3   21            0  \n",
       "4   33            1  "
      ]
     },
     "execution_count": 2,
     "metadata": {},
     "output_type": "execute_result"
    }
   ],
   "source": [
    "#TO DO:\n",
    "colNames = [\"NumTimesPrg\", \"PlGlcConc\", \"BloodP\", \"SkinThick\", \n",
    "                   \"TwoHourSerIns\", \"BMI\", \"DiPedFunc\", \"Age\", \"HasDiabetes\"]\n",
    "\n",
    "df = pd.read_csv(\"pima-indians-diabetes.csv\", header=None,names=colNames) \n",
    "df.head()"
   ]
  },
  {
   "cell_type": "markdown",
   "metadata": {
    "button": false,
    "id": "AmBhwo0DM1kU",
    "new_sheet": false,
    "run_control": {
     "read_only": false
    }
   },
   "source": [
    "## Inspect the Dataset"
   ]
  },
  {
   "cell_type": "markdown",
   "metadata": {
    "id": "_HlgbaIQM1kU"
   },
   "source": [
    "### 2. Print out the shape of the dataset: we have 768 rows and 9 columns. Then, print out the head of the dataset to better understand the data format.\n",
    "\n",
    "The first 8 columns are features while the last one is the supervised label (1 = has diabetes, 0 = no diabetes)"
   ]
  },
  {
   "cell_type": "code",
   "execution_count": 3,
   "metadata": {
    "button": false,
    "id": "bpyxtYzcM1kV",
    "new_sheet": false,
    "outputId": "4d857f7e-842e-4fb7-ec21-354ac3756be7",
    "run_control": {
     "read_only": false
    }
   },
   "outputs": [
    {
     "name": "stdout",
     "output_type": "stream",
     "text": [
      "(768, 9)\n"
     ]
    },
    {
     "data": {
      "text/html": [
       "<div>\n",
       "<style scoped>\n",
       "    .dataframe tbody tr th:only-of-type {\n",
       "        vertical-align: middle;\n",
       "    }\n",
       "\n",
       "    .dataframe tbody tr th {\n",
       "        vertical-align: top;\n",
       "    }\n",
       "\n",
       "    .dataframe thead th {\n",
       "        text-align: right;\n",
       "    }\n",
       "</style>\n",
       "<table border=\"1\" class=\"dataframe\">\n",
       "  <thead>\n",
       "    <tr style=\"text-align: right;\">\n",
       "      <th></th>\n",
       "      <th>NumTimesPrg</th>\n",
       "      <th>PlGlcConc</th>\n",
       "      <th>BloodP</th>\n",
       "      <th>SkinThick</th>\n",
       "      <th>TwoHourSerIns</th>\n",
       "      <th>BMI</th>\n",
       "      <th>DiPedFunc</th>\n",
       "      <th>Age</th>\n",
       "      <th>HasDiabetes</th>\n",
       "    </tr>\n",
       "  </thead>\n",
       "  <tbody>\n",
       "    <tr>\n",
       "      <th>0</th>\n",
       "      <td>6</td>\n",
       "      <td>148</td>\n",
       "      <td>72</td>\n",
       "      <td>35</td>\n",
       "      <td>0</td>\n",
       "      <td>33.6</td>\n",
       "      <td>0.627</td>\n",
       "      <td>50</td>\n",
       "      <td>1</td>\n",
       "    </tr>\n",
       "    <tr>\n",
       "      <th>1</th>\n",
       "      <td>1</td>\n",
       "      <td>85</td>\n",
       "      <td>66</td>\n",
       "      <td>29</td>\n",
       "      <td>0</td>\n",
       "      <td>26.6</td>\n",
       "      <td>0.351</td>\n",
       "      <td>31</td>\n",
       "      <td>0</td>\n",
       "    </tr>\n",
       "    <tr>\n",
       "      <th>2</th>\n",
       "      <td>8</td>\n",
       "      <td>183</td>\n",
       "      <td>64</td>\n",
       "      <td>0</td>\n",
       "      <td>0</td>\n",
       "      <td>23.3</td>\n",
       "      <td>0.672</td>\n",
       "      <td>32</td>\n",
       "      <td>1</td>\n",
       "    </tr>\n",
       "    <tr>\n",
       "      <th>3</th>\n",
       "      <td>1</td>\n",
       "      <td>89</td>\n",
       "      <td>66</td>\n",
       "      <td>23</td>\n",
       "      <td>94</td>\n",
       "      <td>28.1</td>\n",
       "      <td>0.167</td>\n",
       "      <td>21</td>\n",
       "      <td>0</td>\n",
       "    </tr>\n",
       "    <tr>\n",
       "      <th>4</th>\n",
       "      <td>0</td>\n",
       "      <td>137</td>\n",
       "      <td>40</td>\n",
       "      <td>35</td>\n",
       "      <td>168</td>\n",
       "      <td>43.1</td>\n",
       "      <td>2.288</td>\n",
       "      <td>33</td>\n",
       "      <td>1</td>\n",
       "    </tr>\n",
       "  </tbody>\n",
       "</table>\n",
       "</div>"
      ],
      "text/plain": [
       "   NumTimesPrg  PlGlcConc  BloodP  SkinThick  TwoHourSerIns   BMI  DiPedFunc  \\\n",
       "0            6        148      72         35              0  33.6      0.627   \n",
       "1            1         85      66         29              0  26.6      0.351   \n",
       "2            8        183      64          0              0  23.3      0.672   \n",
       "3            1         89      66         23             94  28.1      0.167   \n",
       "4            0        137      40         35            168  43.1      2.288   \n",
       "\n",
       "   Age  HasDiabetes  \n",
       "0   50            1  \n",
       "1   31            0  \n",
       "2   32            1  \n",
       "3   21            0  \n",
       "4   33            1  "
      ]
     },
     "execution_count": 3,
     "metadata": {},
     "output_type": "execute_result"
    }
   ],
   "source": [
    "#TO DO:\n",
    "print(df.shape)\n",
    "df.head()"
   ]
  },
  {
   "cell_type": "markdown",
   "metadata": {
    "button": false,
    "id": "a02T2r1XM1kY",
    "new_sheet": false,
    "run_control": {
     "read_only": false
    }
   },
   "source": [
    "# Data visualization and pre-processing\n",
    "\n"
   ]
  },
  {
   "cell_type": "markdown",
   "metadata": {
    "button": false,
    "id": "WyisS4NVM1kZ",
    "new_sheet": false,
    "run_control": {
     "read_only": false
    }
   },
   "source": [
    "## Data correlation matrix\n",
    "### 3. Let's calculate the correlation matrix for our dataset.\n",
    "\n",
    "The correlation matrix is an important tool to understand the correlation between the different characteristics. The values range from -1 to 1 and the closer a value is to 1 the better correlation there is between two characteristics. "
   ]
  },
  {
   "cell_type": "code",
   "execution_count": 4,
   "metadata": {
    "button": false,
    "id": "vymkxfN8M1kZ",
    "new_sheet": false,
    "outputId": "7e458e60-772c-4d79-d71d-a5692a1a0dc6",
    "run_control": {
     "read_only": false
    }
   },
   "outputs": [
    {
     "data": {
      "text/html": [
       "<div>\n",
       "<style scoped>\n",
       "    .dataframe tbody tr th:only-of-type {\n",
       "        vertical-align: middle;\n",
       "    }\n",
       "\n",
       "    .dataframe tbody tr th {\n",
       "        vertical-align: top;\n",
       "    }\n",
       "\n",
       "    .dataframe thead th {\n",
       "        text-align: right;\n",
       "    }\n",
       "</style>\n",
       "<table border=\"1\" class=\"dataframe\">\n",
       "  <thead>\n",
       "    <tr style=\"text-align: right;\">\n",
       "      <th></th>\n",
       "      <th>NumTimesPrg</th>\n",
       "      <th>PlGlcConc</th>\n",
       "      <th>BloodP</th>\n",
       "      <th>SkinThick</th>\n",
       "      <th>TwoHourSerIns</th>\n",
       "      <th>BMI</th>\n",
       "      <th>DiPedFunc</th>\n",
       "      <th>Age</th>\n",
       "      <th>HasDiabetes</th>\n",
       "    </tr>\n",
       "  </thead>\n",
       "  <tbody>\n",
       "    <tr>\n",
       "      <th>NumTimesPrg</th>\n",
       "      <td>1.000000</td>\n",
       "      <td>0.129459</td>\n",
       "      <td>0.141282</td>\n",
       "      <td>-0.081672</td>\n",
       "      <td>-0.073535</td>\n",
       "      <td>0.017683</td>\n",
       "      <td>-0.033523</td>\n",
       "      <td>0.544341</td>\n",
       "      <td>0.221898</td>\n",
       "    </tr>\n",
       "    <tr>\n",
       "      <th>PlGlcConc</th>\n",
       "      <td>0.129459</td>\n",
       "      <td>1.000000</td>\n",
       "      <td>0.152590</td>\n",
       "      <td>0.057328</td>\n",
       "      <td>0.331357</td>\n",
       "      <td>0.221071</td>\n",
       "      <td>0.137337</td>\n",
       "      <td>0.263514</td>\n",
       "      <td>0.466581</td>\n",
       "    </tr>\n",
       "    <tr>\n",
       "      <th>BloodP</th>\n",
       "      <td>0.141282</td>\n",
       "      <td>0.152590</td>\n",
       "      <td>1.000000</td>\n",
       "      <td>0.207371</td>\n",
       "      <td>0.088933</td>\n",
       "      <td>0.281805</td>\n",
       "      <td>0.041265</td>\n",
       "      <td>0.239528</td>\n",
       "      <td>0.065068</td>\n",
       "    </tr>\n",
       "    <tr>\n",
       "      <th>SkinThick</th>\n",
       "      <td>-0.081672</td>\n",
       "      <td>0.057328</td>\n",
       "      <td>0.207371</td>\n",
       "      <td>1.000000</td>\n",
       "      <td>0.436783</td>\n",
       "      <td>0.392573</td>\n",
       "      <td>0.183928</td>\n",
       "      <td>-0.113970</td>\n",
       "      <td>0.074752</td>\n",
       "    </tr>\n",
       "    <tr>\n",
       "      <th>TwoHourSerIns</th>\n",
       "      <td>-0.073535</td>\n",
       "      <td>0.331357</td>\n",
       "      <td>0.088933</td>\n",
       "      <td>0.436783</td>\n",
       "      <td>1.000000</td>\n",
       "      <td>0.197859</td>\n",
       "      <td>0.185071</td>\n",
       "      <td>-0.042163</td>\n",
       "      <td>0.130548</td>\n",
       "    </tr>\n",
       "    <tr>\n",
       "      <th>BMI</th>\n",
       "      <td>0.017683</td>\n",
       "      <td>0.221071</td>\n",
       "      <td>0.281805</td>\n",
       "      <td>0.392573</td>\n",
       "      <td>0.197859</td>\n",
       "      <td>1.000000</td>\n",
       "      <td>0.140647</td>\n",
       "      <td>0.036242</td>\n",
       "      <td>0.292695</td>\n",
       "    </tr>\n",
       "    <tr>\n",
       "      <th>DiPedFunc</th>\n",
       "      <td>-0.033523</td>\n",
       "      <td>0.137337</td>\n",
       "      <td>0.041265</td>\n",
       "      <td>0.183928</td>\n",
       "      <td>0.185071</td>\n",
       "      <td>0.140647</td>\n",
       "      <td>1.000000</td>\n",
       "      <td>0.033561</td>\n",
       "      <td>0.173844</td>\n",
       "    </tr>\n",
       "    <tr>\n",
       "      <th>Age</th>\n",
       "      <td>0.544341</td>\n",
       "      <td>0.263514</td>\n",
       "      <td>0.239528</td>\n",
       "      <td>-0.113970</td>\n",
       "      <td>-0.042163</td>\n",
       "      <td>0.036242</td>\n",
       "      <td>0.033561</td>\n",
       "      <td>1.000000</td>\n",
       "      <td>0.238356</td>\n",
       "    </tr>\n",
       "    <tr>\n",
       "      <th>HasDiabetes</th>\n",
       "      <td>0.221898</td>\n",
       "      <td>0.466581</td>\n",
       "      <td>0.065068</td>\n",
       "      <td>0.074752</td>\n",
       "      <td>0.130548</td>\n",
       "      <td>0.292695</td>\n",
       "      <td>0.173844</td>\n",
       "      <td>0.238356</td>\n",
       "      <td>1.000000</td>\n",
       "    </tr>\n",
       "  </tbody>\n",
       "</table>\n",
       "</div>"
      ],
      "text/plain": [
       "               NumTimesPrg  PlGlcConc    BloodP  SkinThick  TwoHourSerIns  \\\n",
       "NumTimesPrg       1.000000   0.129459  0.141282  -0.081672      -0.073535   \n",
       "PlGlcConc         0.129459   1.000000  0.152590   0.057328       0.331357   \n",
       "BloodP            0.141282   0.152590  1.000000   0.207371       0.088933   \n",
       "SkinThick        -0.081672   0.057328  0.207371   1.000000       0.436783   \n",
       "TwoHourSerIns    -0.073535   0.331357  0.088933   0.436783       1.000000   \n",
       "BMI               0.017683   0.221071  0.281805   0.392573       0.197859   \n",
       "DiPedFunc        -0.033523   0.137337  0.041265   0.183928       0.185071   \n",
       "Age               0.544341   0.263514  0.239528  -0.113970      -0.042163   \n",
       "HasDiabetes       0.221898   0.466581  0.065068   0.074752       0.130548   \n",
       "\n",
       "                    BMI  DiPedFunc       Age  HasDiabetes  \n",
       "NumTimesPrg    0.017683  -0.033523  0.544341     0.221898  \n",
       "PlGlcConc      0.221071   0.137337  0.263514     0.466581  \n",
       "BloodP         0.281805   0.041265  0.239528     0.065068  \n",
       "SkinThick      0.392573   0.183928 -0.113970     0.074752  \n",
       "TwoHourSerIns  0.197859   0.185071 -0.042163     0.130548  \n",
       "BMI            1.000000   0.140647  0.036242     0.292695  \n",
       "DiPedFunc      0.140647   1.000000  0.033561     0.173844  \n",
       "Age            0.036242   0.033561  1.000000     0.238356  \n",
       "HasDiabetes    0.292695   0.173844  0.238356     1.000000  "
      ]
     },
     "execution_count": 4,
     "metadata": {},
     "output_type": "execute_result"
    }
   ],
   "source": [
    "#TO DO:\n",
    "df.corr()"
   ]
  },
  {
   "cell_type": "markdown",
   "metadata": {
    "id": "Q0YpKuUBM1kb"
   },
   "source": [
    "### 4. Render the corr matrix using the heatmap in seaborn."
   ]
  },
  {
   "cell_type": "code",
   "execution_count": 5,
   "metadata": {
    "id": "ll0POqtIM1kc",
    "outputId": "99b49b55-941d-47dc-b62d-26521240524e"
   },
   "outputs": [
    {
     "data": {
      "image/png": "[encoded data removed]",
      "text/plain": [
       "<Figure size 720x720 with 2 Axes>"
      ]
     },
     "metadata": {
      "needs_background": "light"
     },
     "output_type": "display_data"
    }
   ],
   "source": [
    "#TO DO:\n",
    "%matplotlib inline\n",
    "\n",
    "import seaborn as sns\n",
    "\n",
    "fig, ax = plt.subplots(figsize=(10,10))\n",
    "ax = sns.heatmap(df.corr(), linewidths=0.1, square=True, annot=True)"
   ]
  },
  {
   "cell_type": "markdown",
   "metadata": {
    "id": "r7DgicVOM1ke"
   },
   "source": [
    "### 5. Print out the column which has the biggest corr number with 'HasDiabetes'."
   ]
  },
  {
   "cell_type": "code",
   "execution_count": 6,
   "metadata": {},
   "outputs": [
    {
     "data": {
      "text/plain": [
       "0      148\n",
       "1       85\n",
       "2      183\n",
       "3       89\n",
       "4      137\n",
       "      ... \n",
       "763    101\n",
       "764    122\n",
       "765    121\n",
       "766    126\n",
       "767     93\n",
       "Name: PlGlcConc, Length: 768, dtype: int64"
      ]
     },
     "execution_count": 6,
     "metadata": {},
     "output_type": "execute_result"
    }
   ],
   "source": [
    "df.PlGlcConc"
   ]
  },
  {
   "cell_type": "markdown",
   "metadata": {
    "id": "gZ5Msu8UM1kg"
   },
   "source": [
    "## Visualize the Dataset\n",
    "Visualizing the data is an important step of the data analysis. With a graphical visualization of the data, we have a better understanding of the various features values distribution: for example, we can understand the average age of the people or the average BMI, etc...\n",
    "\n",
    "We could, of course, limit our inspection to the table visualization, but we could miss important things that may affect our model precision.\n",
    "### 6. Manipulate histogram to represent all data columns in the dataset."
   ]
  },
  {
   "cell_type": "code",
   "execution_count": 7,
   "metadata": {},
   "outputs": [
    {
     "data": {
      "image/png": "[encoded data removed]",
      "text/plain": [
       "<Figure size 1080x720 with 9 Axes>"
      ]
     },
     "metadata": {
      "needs_background": "light"
     },
     "output_type": "display_data"
    }
   ],
   "source": [
    "df.hist(bins=50, figsize=(15,10))\n",
    "plt.show()"
   ]
  },
  {
   "cell_type": "markdown",
   "metadata": {
    "button": false,
    "id": "VYSkabikM1kj",
    "new_sheet": false,
    "run_control": {
     "read_only": false
    }
   },
   "source": [
    "An important thing I notice in the dataset (and that wasn't obvious at the beginning) is the fact that some people have null (zero) values for some of the features: it's not quite possible to have 0 for BMI or the blood pressure.\n",
    "\n",
    "How can we deal with similar values? We will see it later during the data transformation phase."
   ]
  },
  {
   "cell_type": "markdown",
   "metadata": {
    "button": false,
    "id": "si5Fgks4M1kj",
    "new_sheet": false,
    "run_control": {
     "read_only": false
    }
   },
   "source": [
    "## Data cleaning and transformation"
   ]
  },
  {
   "cell_type": "markdown",
   "metadata": {
    "button": false,
    "id": "ZDAqJwOaM1kk",
    "new_sheet": false,
    "run_control": {
     "read_only": false
    }
   },
   "source": [
    "We have noticed from the previous analysis that some patients have missing data for some of the features. Machine learning algorithms don't work very well when the data are missing so we have to find a solution to \"clean\" the data we have.\n",
    "\n",
    "The easiest option could be to eliminate all those patients with null/zero values, but in this way, we would eliminate a lot of important data.\n",
    "\n",
    "Another option is to calculate the median value for a specific column and substitute that value everywhere (in the same column) we have zero or null. Let's see how to apply this second method.\n",
    "\n",
    "### 7. Interpolate missing values on ['BMI', 'BloodP', 'PlGlcConc', 'SkinThick',  'TwoHourSerIns'] using median values or any other way which is effective.\n",
    "\n",
    "We haven't transformed all the columns, because of some values which can make sense to be zero (like \"Number of times pregnant\")."
   ]
  },
  {
   "cell_type": "code",
   "execution_count": 8,
   "metadata": {
    "scrolled": true
   },
   "outputs": [
    {
     "data": {
      "text/plain": [
       "<AxesSubplot:>"
      ]
     },
     "execution_count": 8,
     "metadata": {},
     "output_type": "execute_result"
    },
    {
     "data": {
      "image/png": "[encoded data removed]",
      "text/plain": [
       "<Figure size 432x288 with 1 Axes>"
      ]
     },
     "metadata": {
      "needs_background": "light"
     },
     "output_type": "display_data"
    }
   ],
   "source": [
    "# check nan value\n",
    "missing_data = df.isnull()\n",
    "sns.heatmap(missing_data, cbar=False, yticklabels=False, cmap='viridis')"
   ]
  },
  {
   "cell_type": "markdown",
   "metadata": {},
   "source": [
    "# Using median method to avoid outliers of dataset."
   ]
  },
  {
   "cell_type": "code",
   "execution_count": 9,
   "metadata": {
    "button": false,
    "id": "ccZyY2RbM1kk",
    "new_sheet": false,
    "run_control": {
     "read_only": false
    }
   },
   "outputs": [],
   "source": [
    "#TO DO:\n",
    "# the median value for BMI\n",
    "median_bmi = df['BMI'].median()\n",
    "# replace median values at value 0\n",
    "df['BMI'] = df['BMI'].replace(to_replace=0, value=median_bmi)"
   ]
  },
  {
   "cell_type": "code",
   "execution_count": 10,
   "metadata": {},
   "outputs": [],
   "source": [
    "# the median value for BloodP\n",
    "median_BloodP = df['BloodP'].median()\n",
    "# replace median values at value 0\n",
    "df['BloodP'] = df['BloodP'].replace(to_replace=0, value=median_BloodP)"
   ]
  },
  {
   "cell_type": "code",
   "execution_count": 11,
   "metadata": {},
   "outputs": [],
   "source": [
    "# the median value for PlGlcConc\n",
    "median_PlGlcConc = df['PlGlcConc'].median()\n",
    "# replace median values at value 0\n",
    "df['PlGlcConc'] = df['PlGlcConc'].replace(to_replace=0, value=median_PlGlcConc)"
   ]
  },
  {
   "cell_type": "code",
   "execution_count": 12,
   "metadata": {},
   "outputs": [],
   "source": [
    "# the median value for SkinThick\n",
    "median_SkinThick = df['SkinThick'].median()\n",
    "# replace median values at value 0\n",
    "df['SkinThick'] = df['SkinThick'].replace(to_replace=0, value=median_SkinThick)"
   ]
  },
  {
   "cell_type": "code",
   "execution_count": 13,
   "metadata": {},
   "outputs": [],
   "source": [
    "# the median value for PlGlcConc\n",
    "median_TwoHourSerIns = df['TwoHourSerIns'].median()\n",
    "# replace median values at value 0\n",
    "df['TwoHourSerIns'] = df['TwoHourSerIns'].replace(to_replace=0, value=median_TwoHourSerIns)"
   ]
  },
  {
   "cell_type": "markdown",
   "metadata": {
    "id": "-8h0P-vLM1kl"
   },
   "source": [
    "## Normalize Data "
   ]
  },
  {
   "cell_type": "markdown",
   "metadata": {
    "id": "GNxKYsijM1km"
   },
   "source": [
    "One of the most important data transformations we need to apply is the features scaling. Basically, most of the machine learning algorithms don't work very well if the features have a different set of values. In our case, for example, the Age ranges from 20 to 80 years old, while the number of times a patient has been pregnant ranges from 0 to 17. For this reason, we need to apply a proper transformation.\n",
    "\n",
    "### 8. Execute Data Standardization using data zero mean and unit variance (don't forget to remove ground truth column before scaling)."
   ]
  },
  {
   "cell_type": "code",
   "execution_count": 14,
   "metadata": {},
   "outputs": [
    {
     "name": "stdout",
     "output_type": "stream",
     "text": [
      "[0.10533213 0.23847941 0.09749785 0.08640247 0.07784661 0.14156404\n",
      " 0.11249433 0.14038316]\n"
     ]
    },
    {
     "data": {
      "image/png": "[encoded data removed]",
      "text/plain": [
       "<Figure size 432x288 with 1 Axes>"
      ]
     },
     "metadata": {
      "needs_background": "light"
     },
     "output_type": "display_data"
    }
   ],
   "source": [
    "# Find 6 variables which are needed for train/test model\n",
    "\n",
    "data=df\n",
    "X = data.iloc[:,0:8]  \n",
    "y = data.iloc[:,-1]\n",
    "\n",
    "from sklearn.ensemble import ExtraTreesClassifier\n",
    "import matplotlib.pyplot as plt\n",
    "\n",
    "model = ExtraTreesClassifier()\n",
    "model.fit(X,y)\n",
    "print(model.feature_importances_) \n",
    "\n",
    "feat_importances = pd.Series(model.feature_importances_, index=X.columns)\n",
    "ax=feat_importances.nlargest(6).plot(kind='barh')\n",
    "\n",
    "totals = []\n",
    "\n",
    "# find the values and append to list\n",
    "for i in ax.patches:\n",
    "    totals.append(i.get_width())\n",
    "\n",
    "# set individual bar lables using above list\n",
    "total = sum(totals)\n",
    "\n",
    "# set individual bar lables using above list\n",
    "for i in ax.patches:\n",
    "    # get_width pulls left or right; get_y pushes up or down\n",
    "    ax.text(i.get_width()-.03, i.get_y()+.08, \\\n",
    "            i.get_width(), fontsize=15,\n",
    "            color='white')\n",
    "    \n",
    "plt.savefig('clasifier.png') \n",
    "\n",
    "plt.show()"
   ]
  },
  {
   "cell_type": "code",
   "execution_count": 15,
   "metadata": {
    "scrolled": true
   },
   "outputs": [
    {
     "name": "stderr",
     "output_type": "stream",
     "text": [
      "<ipython-input-15-81d91cd8ffd8>:21: SettingWithCopyWarning: \n",
      "A value is trying to be set on a copy of a slice from a DataFrame.\n",
      "Try using .loc[row_indexer,col_indexer] = value instead\n",
      "\n",
      "See the caveats in the documentation: https://pandas.pydata.org/pandas-docs/stable/user_guide/indexing.html#returning-a-view-versus-a-copy\n",
      "  X[i] = scale.transform(X[[i]])\n",
      "<ipython-input-15-81d91cd8ffd8>:21: SettingWithCopyWarning: \n",
      "A value is trying to be set on a copy of a slice from a DataFrame.\n",
      "Try using .loc[row_indexer,col_indexer] = value instead\n",
      "\n",
      "See the caveats in the documentation: https://pandas.pydata.org/pandas-docs/stable/user_guide/indexing.html#returning-a-view-versus-a-copy\n",
      "  X[i] = scale.transform(X[[i]])\n",
      "<ipython-input-15-81d91cd8ffd8>:21: SettingWithCopyWarning: \n",
      "A value is trying to be set on a copy of a slice from a DataFrame.\n",
      "Try using .loc[row_indexer,col_indexer] = value instead\n",
      "\n",
      "See the caveats in the documentation: https://pandas.pydata.org/pandas-docs/stable/user_guide/indexing.html#returning-a-view-versus-a-copy\n",
      "  X[i] = scale.transform(X[[i]])\n",
      "<ipython-input-15-81d91cd8ffd8>:21: SettingWithCopyWarning: \n",
      "A value is trying to be set on a copy of a slice from a DataFrame.\n",
      "Try using .loc[row_indexer,col_indexer] = value instead\n",
      "\n",
      "See the caveats in the documentation: https://pandas.pydata.org/pandas-docs/stable/user_guide/indexing.html#returning-a-view-versus-a-copy\n",
      "  X[i] = scale.transform(X[[i]])\n",
      "<ipython-input-15-81d91cd8ffd8>:21: SettingWithCopyWarning: \n",
      "A value is trying to be set on a copy of a slice from a DataFrame.\n",
      "Try using .loc[row_indexer,col_indexer] = value instead\n",
      "\n",
      "See the caveats in the documentation: https://pandas.pydata.org/pandas-docs/stable/user_guide/indexing.html#returning-a-view-versus-a-copy\n",
      "  X[i] = scale.transform(X[[i]])\n"
     ]
    },
    {
     "data": {
      "text/html": [
       "<div>\n",
       "<style scoped>\n",
       "    .dataframe tbody tr th:only-of-type {\n",
       "        vertical-align: middle;\n",
       "    }\n",
       "\n",
       "    .dataframe tbody tr th {\n",
       "        vertical-align: top;\n",
       "    }\n",
       "\n",
       "    .dataframe thead th {\n",
       "        text-align: right;\n",
       "    }\n",
       "</style>\n",
       "<table border=\"1\" class=\"dataframe\">\n",
       "  <thead>\n",
       "    <tr style=\"text-align: right;\">\n",
       "      <th></th>\n",
       "      <th>NumTimesPrg</th>\n",
       "      <th>PlGlcConc</th>\n",
       "      <th>BMI</th>\n",
       "      <th>DiPedFunc</th>\n",
       "      <th>Age</th>\n",
       "    </tr>\n",
       "  </thead>\n",
       "  <tbody>\n",
       "    <tr>\n",
       "      <th>0</th>\n",
       "      <td>0.352941</td>\n",
       "      <td>0.670968</td>\n",
       "      <td>0.314928</td>\n",
       "      <td>0.234415</td>\n",
       "      <td>0.483333</td>\n",
       "    </tr>\n",
       "    <tr>\n",
       "      <th>1</th>\n",
       "      <td>0.058824</td>\n",
       "      <td>0.264516</td>\n",
       "      <td>0.171779</td>\n",
       "      <td>0.116567</td>\n",
       "      <td>0.166667</td>\n",
       "    </tr>\n",
       "    <tr>\n",
       "      <th>2</th>\n",
       "      <td>0.470588</td>\n",
       "      <td>0.896774</td>\n",
       "      <td>0.104294</td>\n",
       "      <td>0.253629</td>\n",
       "      <td>0.183333</td>\n",
       "    </tr>\n",
       "    <tr>\n",
       "      <th>3</th>\n",
       "      <td>0.058824</td>\n",
       "      <td>0.290323</td>\n",
       "      <td>0.202454</td>\n",
       "      <td>0.038002</td>\n",
       "      <td>0.000000</td>\n",
       "    </tr>\n",
       "    <tr>\n",
       "      <th>4</th>\n",
       "      <td>0.000000</td>\n",
       "      <td>0.600000</td>\n",
       "      <td>0.509202</td>\n",
       "      <td>0.943638</td>\n",
       "      <td>0.200000</td>\n",
       "    </tr>\n",
       "  </tbody>\n",
       "</table>\n",
       "</div>"
      ],
      "text/plain": [
       "   NumTimesPrg  PlGlcConc       BMI  DiPedFunc       Age\n",
       "0     0.352941   0.670968  0.314928   0.234415  0.483333\n",
       "1     0.058824   0.264516  0.171779   0.116567  0.166667\n",
       "2     0.470588   0.896774  0.104294   0.253629  0.183333\n",
       "3     0.058824   0.290323  0.202454   0.038002  0.000000\n",
       "4     0.000000   0.600000  0.509202   0.943638  0.200000"
      ]
     },
     "execution_count": 15,
     "metadata": {},
     "output_type": "execute_result"
    }
   ],
   "source": [
    "# normalize data by Standardization\n",
    "#TO DO:\n",
    "\n",
    "# data standardization with  sklearn\n",
    "#from sklearn.preprocessing import StandardScaler as Scaler\n",
    "from sklearn.preprocessing import MinMaxScaler as Scaler\n",
    "\n",
    "# copy of datasets\n",
    "num_cols = ['NumTimesPrg', 'PlGlcConc',\n",
    "            'BMI', 'DiPedFunc', 'Age']\n",
    "X = df[num_cols]\n",
    "y = df.HasDiabetes\n",
    "\n",
    "# apply standardization on numerical features\n",
    "for i in num_cols:\n",
    "    \n",
    "    # fit on training data column\n",
    "    scale = Scaler().fit(X[[i]])\n",
    "    \n",
    "    # transform the training data column\n",
    "    X[i] = scale.transform(X[[i]])\n",
    "  \n",
    "X.head()\n"
   ]
  },
  {
   "cell_type": "markdown",
   "metadata": {
    "button": false,
    "id": "oOHQu_2rM1ko",
    "new_sheet": false,
    "run_control": {
     "read_only": false
    }
   },
   "source": [
    "# Splitting the Dataset"
   ]
  },
  {
   "cell_type": "markdown",
   "metadata": {
    "id": "luDui2xtM1ko"
   },
   "source": [
    "Now that we have transformed the data, we need to split the dataset into two parts: a training dataset and a test dataset. Splitting the dataset is a very important step for supervised machine learning models. Basically, we are going to use the first part to train the model (ignoring the column with the pre-assigned label), then we use the trained model to make predictions on new data (which is the test dataset, not part of the training set) and compare the predicted value with the pre-assigned label.\n",
    "\n",
    "### 9. Split the dataset into 80/20 using the stratified technique and random_state=7."
   ]
  },
  {
   "cell_type": "code",
   "execution_count": 16,
   "metadata": {},
   "outputs": [],
   "source": [
    "from sklearn import model_selection\n",
    "from sklearn.metrics import classification_report\n",
    "from sklearn.metrics import confusion_matrix\n",
    "from sklearn.metrics import accuracy_score\n",
    "\n",
    "from sklearn.linear_model import LogisticRegression\n",
    "from sklearn.tree import DecisionTreeClassifier\n",
    "from sklearn.neighbors import KNeighborsClassifier\n",
    "from sklearn.discriminant_analysis import LinearDiscriminantAnalysis\n",
    "from sklearn.naive_bayes import GaussianNB\n",
    "from sklearn.svm import SVC"
   ]
  },
  {
   "cell_type": "code",
   "execution_count": 17,
   "metadata": {},
   "outputs": [
    {
     "name": "stdout",
     "output_type": "stream",
     "text": [
      "Train set: (614, 5) (614,)\n",
      "Test set: (154, 5) (154,)\n"
     ]
    }
   ],
   "source": [
    "validation_size = 0.20\n",
    "seed = 42\n",
    "\n",
    "X_train, X_test, y_train, y_test =  model_selection.train_test_split(X,  y, stratify=y, \n",
    "                                                                     test_size=validation_size, random_state=seed)\n",
    "print ('Train set:', X_train.shape,  y_train.shape)\n",
    "print ('Test set:', X_test.shape,  y_test.shape)"
   ]
  },
  {
   "cell_type": "markdown",
   "metadata": {
    "id": "Yk3Y6qVtM1kq"
   },
   "source": [
    "# Additional Question: \n",
    "### Why should we perform data normalization and data splitting before the training step?\n",
    "Type your answer in the cell bellow as the markdown format."
   ]
  },
  {
   "cell_type": "markdown",
   "metadata": {
    "id": "2yXSkeUjM1kr"
   },
   "source": [
    "### TO DO:\n",
    "Data standardization is about making sure that data is internally consistent; that is, each data type has the same content and format."
   ]
  },
  {
   "cell_type": "markdown",
   "metadata": {
    "id": "6PaVBEAwM1ks"
   },
   "source": [
    "### 10. Print out the proportion of positive/total women who have diabetes on the full dataset, training dataset, and testing dataset."
   ]
  },
  {
   "cell_type": "code",
   "execution_count": 18,
   "metadata": {},
   "outputs": [
    {
     "name": "stdout",
     "output_type": "stream",
     "text": [
      "The proportion of positive on the full dataset: 34.90% (268)\n",
      "The proportion of positive on the training dataset: 34.85% (214)\n",
      "The proportion of positive on the test dataset: 35.06% (54)\n"
     ]
    }
   ],
   "source": [
    "## print(\"Original True cases: {0} ({1:2.2f}%)\".format(num_true, (num_true/num_obs)*100))\n",
    "\n",
    "print('The proportion of positive on the full dataset: {0:2.2f}% ({1})'.format\n",
    "      (\n",
    "      (np.count_nonzero(df[\"HasDiabetes\"])/len(df[\"HasDiabetes\"])*100),\n",
    "      np.count_nonzero(df[\"HasDiabetes\"])\n",
    "      )\n",
    "     )\n",
    "\n",
    "print('The proportion of positive on the training dataset: {0:2.2f}% ({1})'.format\n",
    "     ((np.count_nonzero(y_train)/len(y_train))*100, np.count_nonzero(y_train)\n",
    "     )\n",
    "     )\n",
    "\n",
    "print('The proportion of positive on the test dataset: {0:2.2f}% ({1})'.format\n",
    "      ((np.count_nonzero(y_test)/len(y_test))*100, np.count_nonzero(y_test)\n",
    "     )\n",
    "     )"
   ]
  },
  {
   "cell_type": "code",
   "execution_count": 19,
   "metadata": {},
   "outputs": [
    {
     "name": "stdout",
     "output_type": "stream",
     "text": [
      "Shape of X training set (614, 5) & Size of Y training set (614,)\n",
      "Shape of X test set (154, 5) & Size of Y test set (154,)\n"
     ]
    }
   ],
   "source": [
    "print('Shape of X training set {}'.format(X_train.shape), '&', \n",
    "      'Size of Y training set {}'.format(y_train.shape))\n",
    "print('Shape of X test set {}'.format(X_test.shape),'&',\n",
    "      'Size of Y test set {}'.format(y_test.shape))"
   ]
  },
  {
   "cell_type": "markdown",
   "metadata": {
    "button": false,
    "id": "KHXGaCazM1k0",
    "new_sheet": false,
    "run_control": {
     "read_only": false
    }
   },
   "source": [
    "# Classification "
   ]
  },
  {
   "cell_type": "markdown",
   "metadata": {
    "button": false,
    "id": "Q-NwUyDVM1k0",
    "new_sheet": false,
    "run_control": {
     "read_only": false
    }
   },
   "source": [
    "Now, it is your turn, use the training set to build an accurate model. Then use the test set to report the accuracy of the model.\n",
    "\n",
    "You should use the following algorithms:\n",
    "- K Nearest Neighbor(KNN)\n",
    "- Decision Tree\n",
    "- Support Vector Machine\n",
    "- Logistic Regression\n",
    "- Soft voting\n",
    "- Hard voting\n",
    "\n",
    "\n",
    "\n",
    "**__ Notes:__**\n",
    "\n",
    "- You must try to **FINE TUNE AT LEAST 3 PARAMETERS** on each algorithm, except on soft voting and hard voting.\n",
    "- You can go above and change the pre-processing, feature selection, feature extraction, and so on, to make a better model.\n",
    "- You should use either scikit-learn, Scipy or Numpy libraries for developing the classification algorithms.\n",
    "- You should include the code of the algorithm in the following cells."
   ]
  },
  {
   "cell_type": "markdown",
   "metadata": {
    "id": "c8HKeDu9M1k1"
   },
   "source": [
    "# Import Evaluation Metrices"
   ]
  },
  {
   "cell_type": "code",
   "execution_count": 20,
   "metadata": {
    "id": "sZrg6rrsM1k1"
   },
   "outputs": [],
   "source": [
    "from sklearn.metrics import jaccard_score, f1_score\n",
    "from sklearn.model_selection import GridSearchCV"
   ]
  },
  {
   "cell_type": "code",
   "execution_count": 21,
   "metadata": {
    "id": "TBXdCSP-M1k3"
   },
   "outputs": [],
   "source": [
    "# a dictionary for keeping all scores of the classifiers\n",
    "f1_scores = {'train':{'KNN': 0, 'DT': 0, 'SVM': 0, 'LR': 0, 'EN_HARD': 0, 'EN_SOFT': 0},\n",
    "             'test':{'KNN': 0, 'DT': 0, 'SVM': 0, 'LR': 0, 'EN_HARD': 0, 'EN_SOFT': 0}}\n",
    "jaccard_scores = {'train':{'KNN': 0, 'DT': 0, 'SVM': 0, 'LR': 0, 'EN_HARD': 0, 'EN_SOFT': 0}, \n",
    "                  'test':{'KNN': 0, 'DT': 0, 'SVM': 0, 'LR': 0, 'EN_HARD': 0, 'EN_SOFT': 0}}\n"
   ]
  },
  {
   "cell_type": "markdown",
   "metadata": {
    "id": "ntwqYDm7M1k6"
   },
   "source": [
    "# K Nearest Neighbor(KNN)\n",
    "### 11. Finetune at least 3 parameters to get the KNN model with best accuracy. Then, print out the KNN model's parameters with the best accuracy(best estimator).\n",
    "Hint: Using GridSearchCV in sklearn.model_selection.\n",
    "\n",
    "**Warning:** You should not use the test data for finding the best parameters."
   ]
  },
  {
   "cell_type": "code",
   "execution_count": 22,
   "metadata": {
    "id": "Xw2vbHFKM1k9",
    "scrolled": true
   },
   "outputs": [
    {
     "name": "stdout",
     "output_type": "stream",
     "text": [
      "The KNN model's parameters with the best accuracy  0.7802221047065045\n",
      "The best parameters of model : {'algorithm': 'auto', 'n_neighbors': 12, 'p': 1, 'weights': 'uniform'}\n"
     ]
    }
   ],
   "source": [
    "# find best accuracy\n",
    "knn = KNeighborsClassifier()\n",
    "parameters = [{'weights': ['uniform','distance'], 'p': [1,2],\n",
    "                   'algorithm': ['auto','ball_tree','kd_tree','brute'],\n",
    "                   'n_neighbors': [1,2,3,4,5,6,7,8,9,10,11,12,13,14,15,16,17,18,19,20]}]\n",
    "grid_search = GridSearchCV(estimator = knn,param_grid = parameters,scoring ='accuracy',n_jobs = -1,cv = 10)\n",
    "grid_search = grid_search.fit(X_train,y_train)\n",
    "best_accuracy = grid_search.best_score_\n",
    "best_parameters = grid_search.best_params_\n",
    "\n",
    "print(\"The KNN model's parameters with the best accuracy \",best_accuracy)\n",
    "print(\"The best parameters of model :\",best_parameters)"
   ]
  },
  {
   "cell_type": "markdown",
   "metadata": {
    "id": "QLvhv6JrM1lA"
   },
   "source": [
    "# Additional Question: \n",
    "### Interpret and explain the parameters you have chosen to fine tune in KNN algorithm.\n",
    "Type your answer in the cell bellow as markdown format."
   ]
  },
  {
   "cell_type": "markdown",
   "metadata": {
    "id": "qaJt1GeEM1lA"
   },
   "source": [
    "### TO DO:\n",
    "- weights = uniform:  uniform weights. All points in each neighborhood are weighted equally.\n",
    "- n_neighbors = 20: There are 20 closest data which will be searched to the training data.\n",
    "- p = 1: Power parameter for the Minkowski metric. This is equivalent to using manhattan_distance (l1).\n",
    "- algorithm = auto: In  this case, the nearest neighbors will attempt to decide the most appropriate algorithm based on the values passed to fit method."
   ]
  },
  {
   "cell_type": "markdown",
   "metadata": {
    "id": "GsPgXPEpM1lB"
   },
   "source": [
    "### 12. Run the prediction on KNN models on training data and test data, then calculate the f1 score and Jaccard similarity score and save it to f1_scores dict and jaccard_scores dict.  \n",
    "**Requirement**: F1 score on test data must be higher than **0.6**, Jaccard similarity score must be higher than **0.75**."
   ]
  },
  {
   "cell_type": "code",
   "execution_count": 23,
   "metadata": {},
   "outputs": [
    {
     "name": "stdout",
     "output_type": "stream",
     "text": [
      "Train set F1 Score:  0.6368715083798882\n",
      "Test set F1 Score:  0.5806451612903226\n",
      "Train set Jaccard similarity score:  0.74\n",
      "Test set Jaccard similarity score:  0.6929133858267716\n"
     ]
    }
   ],
   "source": [
    "knn = KNeighborsClassifier(algorithm='auto',n_neighbors=20,p=1,weights='uniform')\n",
    "knn.fit(X_train, y_train)\n",
    "yhat = knn.predict(X_test)\n",
    "\n",
    "print(\"Train set F1 Score: \", metrics.f1_score(y_train, knn.predict(X_train)))\n",
    "print(\"Test set F1 Score: \", metrics.f1_score(y_test, yhat))\n",
    "print(\"Train set Jaccard similarity score: \", metrics.jaccard_score(y_train, knn.predict(X_train),pos_label = 0))\n",
    "print(\"Test set Jaccard similarity score: \", metrics.jaccard_score(y_test, yhat,pos_label = 0))"
   ]
  },
  {
   "cell_type": "markdown",
   "metadata": {
    "id": "NXIl2GGLM1lE"
   },
   "source": [
    "# Decision Tree"
   ]
  },
  {
   "cell_type": "markdown",
   "metadata": {
    "id": "kW11u1k6M1lF"
   },
   "source": [
    "### 13, 14. Perform task 11 and 12 on the DT model.\n",
    "\n",
    "Hint: Using GridSearchCV in sklearn.model_selection.\n",
    "\n",
    "**Warning**: You should not use the test data for finding the best parameters.\n",
    "\n",
    "**Requirement**: F1 score on test data has to higher than **0.6**, the Jaccard similarity score must be higher than **0.73**."
   ]
  },
  {
   "cell_type": "code",
   "execution_count": 24,
   "metadata": {},
   "outputs": [
    {
     "name": "stdout",
     "output_type": "stream",
     "text": [
      "The Decision Tree model's parameters with the best accuracy  0.7473294553146482\n",
      "The best parameters of model : {'criterion': 'entropy', 'max_depth': 5, 'splitter': 'random'}\n"
     ]
    }
   ],
   "source": [
    "# find best accuracy\n",
    "dt = DecisionTreeClassifier()\n",
    "parameters = [{'criterion': ['gini', 'entropy'], 'splitter': ['best', 'random'],\n",
    "               'max_depth': [1,2,4,5,6,7,8,9,10,11,12,13,14,15,16,17,18,19,20]}]\n",
    "grid_search = GridSearchCV(estimator = dt,param_grid = parameters,scoring = 'accuracy',n_jobs = -1,cv = 10)\n",
    "grid_search = grid_search.fit(X_train,y_train)\n",
    "best_accuracy = grid_search.best_score_\n",
    "best_parameters = grid_search.best_params_\n",
    "\n",
    "print(\"The Decision Tree model's parameters with the best accuracy \",best_accuracy)\n",
    "print(\"The best parameters of model :\",best_parameters)"
   ]
  },
  {
   "cell_type": "code",
   "execution_count": 25,
   "metadata": {},
   "outputs": [
    {
     "name": "stdout",
     "output_type": "stream",
     "text": [
      "Train set F1 Score:  0.7058823529411764\n",
      "Test set F1 Score:  0.7394957983193278\n",
      "Train set Jaccard similarity score:  0.6860986547085202\n",
      "Test set Jaccard similarity score:  0.7181818181818181\n",
      "\n",
      "Accuracy: 0.7987\n",
      "[[79 21]\n",
      " [10 44]]\n",
      "\n",
      "Classification Report\n",
      "              precision    recall  f1-score   support\n",
      "\n",
      "           0       0.89      0.79      0.84       100\n",
      "           1       0.68      0.81      0.74        54\n",
      "\n",
      "    accuracy                           0.80       154\n",
      "   macro avg       0.78      0.80      0.79       154\n",
      "weighted avg       0.81      0.80      0.80       154\n",
      "\n",
      "0.8148148148148148\n"
     ]
    }
   ],
   "source": [
    "dt = DecisionTreeClassifier(criterion='entropy',max_depth=4,splitter='best')\n",
    "dt.fit(X_train, y_train)\n",
    "yhat = dt.predict(X_test)\n",
    "\n",
    "print(\"Train set F1 Score: \", metrics.f1_score(y_train, dt.predict(X_train)))\n",
    "print(\"Test set F1 Score: \", metrics.f1_score(y_test, yhat))\n",
    "print(\"Train set Jaccard similarity score: \", metrics.jaccard_score(y_train, dt.predict(X_train),pos_label = 0))\n",
    "print(\"Test set Jaccard similarity score: \", metrics.jaccard_score(y_test, yhat,pos_label = 0))\n",
    "\n",
    "print(\"\")\n",
    "print(\"Accuracy: {0:.4f}\".format(metrics.accuracy_score(y_test, yhat)))\n",
    "print(metrics.confusion_matrix(y_test, yhat) )\n",
    "print(\"\")\n",
    "print(\"Classification Report\")\n",
    "print(metrics.classification_report(y_test, yhat))\n",
    "print(metrics.recall_score(y_test, yhat))"
   ]
  },
  {
   "cell_type": "markdown",
   "metadata": {
    "id": "0ZjQch2RM1lL"
   },
   "source": [
    "# Additional Question: \n",
    "### Interpret and explain the parameters you have chosen to fine tune in DT algorithm.\n",
    "Type your answer in the cell bellow as the markdown format."
   ]
  },
  {
   "cell_type": "markdown",
   "metadata": {
    "id": "g4aBT64WM1lL"
   },
   "source": [
    "### TO DO:\n"
   ]
  },
  {
   "cell_type": "markdown",
   "metadata": {
    "id": "5j2yBhnrM1lM",
    "outputId": "57d49035-a2ba-49f5-ed4d-407039ec79c7"
   },
   "source": [
    "#TO DO:\n",
    "- criterion = entropy: The function to measure the quality of a split. Supported criteria are “entropy” for the information gain.\n",
    "- max_depth = 4: The maximum depth of the tree, it reduce overfit for data train\n",
    "- splitter = best: The strategy used to choose the split at each node. Supported strategies are “best” to choose the best split."
   ]
  },
  {
   "cell_type": "markdown",
   "metadata": {
    "id": "nd4a59C6M1lQ"
   },
   "source": [
    "# Support Vector Machine"
   ]
  },
  {
   "cell_type": "markdown",
   "metadata": {
    "id": "sn_wfdWpM1lR"
   },
   "source": [
    "### 15, 16. Perform task 11 and 12 on SVM models.\n",
    "\n",
    "Hint: Using GridSearchCV in sklearn.model_selection.\n",
    "\n",
    "**Warning**: You should not use the test data for finding the best parameters.\n",
    "\n",
    "**Requirement**: F1 score on test data has to higher than **0.62**, Jaccard similarity score must be higher than **0.75**."
   ]
  },
  {
   "cell_type": "code",
   "execution_count": 26,
   "metadata": {
    "id": "JMxZtQa8M1lT"
   },
   "outputs": [
    {
     "name": "stdout",
     "output_type": "stream",
     "text": [
      "The SVC model's parameters with the best accuracy  0.7801956636700159\n",
      "The best parameters of model : {'C': 20.0, 'coef0': 0.1, 'gamma': 'auto', 'kernel': 'sigmoid', 'probability': True, 'shrinking': True}\n"
     ]
    }
   ],
   "source": [
    "# find best accuracy\n",
    "from sklearn.svm import SVC\n",
    "svm = SVC()\n",
    "parameters = [{'C': [1.0, 10.0, 20.0],\n",
    "               'kernel': ['linear', 'poly', 'rbf', 'sigmoid'],\n",
    "               'gamma': ['scale', 'auto'],\n",
    "               'shrinking': [True, False],\n",
    "               'coef0': [0.0, 0.1, 0.5],\n",
    "               'probability':[True,False]}]\n",
    "grid_search = GridSearchCV(estimator = svm,param_grid = parameters,scoring = 'accuracy',n_jobs = -1,cv = 10)\n",
    "grid_search = grid_search.fit(X_train,y_train)\n",
    "best_accuracy = grid_search.best_score_\n",
    "best_parameters = grid_search.best_params_\n",
    "\n",
    "print(\"The SVC model's parameters with the best accuracy \",best_accuracy)\n",
    "print(\"The best parameters of model :\",best_parameters)"
   ]
  },
  {
   "cell_type": "code",
   "execution_count": 27,
   "metadata": {},
   "outputs": [
    {
     "name": "stdout",
     "output_type": "stream",
     "text": [
      "Train set F1 Score:  0.6684350132625995\n",
      "Test set F1 Score:  0.5346534653465347\n",
      "Train set Jaccard similarity score:  0.7438524590163934\n",
      "Test set Jaccard similarity score:  0.6299212598425197\n",
      "\n",
      "Accuracy: 0.6948\n",
      "[[80 20]\n",
      " [27 27]]\n",
      "\n",
      "Classification Report\n",
      "              precision    recall  f1-score   support\n",
      "\n",
      "           0       0.75      0.80      0.77       100\n",
      "           1       0.57      0.50      0.53        54\n",
      "\n",
      "    accuracy                           0.69       154\n",
      "   macro avg       0.66      0.65      0.65       154\n",
      "weighted avg       0.69      0.69      0.69       154\n",
      "\n",
      "0.5\n"
     ]
    }
   ],
   "source": [
    "svm = SVC(C=10.0,coef0=0.0,gamma='auto',kernel='rbf',shrinking=True, probability=True)\n",
    "svm.fit(X_train, y_train)\n",
    "yhat = svm.predict(X_test)\n",
    "\n",
    "print(\"Train set F1 Score: \", metrics.f1_score(y_train, svm.predict(X_train)))\n",
    "print(\"Test set F1 Score: \", metrics.f1_score(y_test, yhat))\n",
    "print(\"Train set Jaccard similarity score: \", metrics.jaccard_score(y_train, svm.predict(X_train),pos_label = 0))\n",
    "print(\"Test set Jaccard similarity score: \", metrics.jaccard_score(y_test, yhat,pos_label = 0))\n",
    "\n",
    "print(\"\")\n",
    "print(\"Accuracy: {0:.4f}\".format(metrics.accuracy_score(y_test, yhat)))\n",
    "print(metrics.confusion_matrix(y_test, yhat) )\n",
    "print(\"\")\n",
    "print(\"Classification Report\")\n",
    "print(metrics.classification_report(y_test, yhat))\n",
    "print(metrics.recall_score(y_test, yhat))"
   ]
  },
  {
   "cell_type": "markdown",
   "metadata": {
    "id": "03XgTdoPM1lW"
   },
   "source": [
    "# Additional Question: \n",
    "### Interpret and explain the parameters you have chosen to fine tune in SVM algorithm.\n",
    "Type your answer in the cell bellow as the markdown format."
   ]
  },
  {
   "cell_type": "markdown",
   "metadata": {
    "id": "wz0N8-CIM1lW"
   },
   "source": [
    "### TO DO:\n"
   ]
  },
  {
   "cell_type": "markdown",
   "metadata": {
    "id": "z0eWOaUaM1lX",
    "outputId": "160ada70-d335-4496-8264-65913288a7b6"
   },
   "source": [
    "#TO DO:\n",
    "- C: Regularization parameter. The strength of the regularization is inversely proportional to C.\n",
    "- corf0:\n",
    "- gamma = auto: uses 1 / n_features.\n",
    "- kernel = rbf: If a callable is given it is used to pre-compute the kernel matrix from data matrices; that matrix should be an array of shape.\n",
    "- shrinking= True: "
   ]
  },
  {
   "cell_type": "markdown",
   "metadata": {
    "id": "xRVAKHEkM1la"
   },
   "source": [
    "# Logistic Regression"
   ]
  },
  {
   "cell_type": "markdown",
   "metadata": {
    "id": "nTQkBQIXM1la"
   },
   "source": [
    "### 17, 18. Perform task 11 and 12 on Logistic Regression model.\n",
    "\n",
    "Hint: Using GridSearchCV in sklearn.model_selection.\n",
    "\n",
    "**Warning**: You should not use the test data for finding the best parameters.\n",
    "\n",
    "**Requirement**: F1 score on test data has to higher than **0.63**, Jaccard similarity score must be higher than **0.75**."
   ]
  },
  {
   "cell_type": "code",
   "execution_count": 28,
   "metadata": {
    "id": "7szXdAHTM1lc"
   },
   "outputs": [
    {
     "name": "stdout",
     "output_type": "stream",
     "text": [
      "The LR model's parameters with the best accuracy  0.783474352194606\n",
      "The best parameters of model : {'C': 1.0, 'dual': False, 'fit_intercept': True, 'intercept_scaling': 1.0, 'penalty': 'none'}\n"
     ]
    }
   ],
   "source": [
    "#TO DO:\n",
    "from sklearn.linear_model import LogisticRegression\n",
    "lr = LogisticRegression()\n",
    "parameters = [{'penalty': ['l1', 'l2', 'elasticnet', 'none'],\n",
    "               'dual': [True, False],\n",
    "               'C': [1.0, 10.0, 20.0, 30.0, 40.0, 50.0],\n",
    "               'fit_intercept': [True, False],\n",
    "               'intercept_scaling': [1.0, 2.0, 3.0,4.0,5.0]\n",
    "               }]\n",
    "grid_search = GridSearchCV(estimator = lr,param_grid = parameters,scoring = 'accuracy',n_jobs = -1,cv = 10)\n",
    "grid_search = grid_search.fit(X_train,y_train)\n",
    "best_accuracy = grid_search.best_score_\n",
    "best_parameters = grid_search.best_params_\n",
    "\n",
    "print(\"The LR model's parameters with the best accuracy \",best_accuracy)\n",
    "print(\"The best parameters of model :\",best_parameters)"
   ]
  },
  {
   "cell_type": "code",
   "execution_count": 29,
   "metadata": {},
   "outputs": [
    {
     "name": "stdout",
     "output_type": "stream",
     "text": [
      "Train set F1 Score:  0.6719160104986877\n",
      "Test set F1 Score:  0.54\n",
      "Train set Jaccard similarity score:  0.742798353909465\n",
      "Test set Jaccard similarity score:  0.6377952755905512\n",
      "\n",
      "Accuracy: 0.7013\n",
      "[[81 19]\n",
      " [27 27]]\n",
      "\n",
      "Classification Report\n",
      "              precision    recall  f1-score   support\n",
      "\n",
      "           0       0.75      0.81      0.78       100\n",
      "           1       0.59      0.50      0.54        54\n",
      "\n",
      "    accuracy                           0.70       154\n",
      "   macro avg       0.67      0.66      0.66       154\n",
      "weighted avg       0.69      0.70      0.70       154\n",
      "\n",
      "0.5\n"
     ]
    }
   ],
   "source": [
    "lr = LogisticRegression(C=1.0,dual=False,fit_intercept=True,intercept_scaling=1.0,penalty='none')\n",
    "lr.fit(X_train, y_train)\n",
    "yhat = lr.predict(X_test)\n",
    "\n",
    "print(\"Train set F1 Score: \", metrics.f1_score(y_train, lr.predict(X_train)))\n",
    "print(\"Test set F1 Score: \", metrics.f1_score(y_test, yhat))\n",
    "print(\"Train set Jaccard similarity score: \", metrics.jaccard_score(y_train, lr.predict(X_train),pos_label = 0))\n",
    "print(\"Test set Jaccard similarity score: \", metrics.jaccard_score(y_test, yhat,pos_label = 0))\n",
    "\n",
    "print(\"\")\n",
    "print(\"Accuracy: {0:.4f}\".format(metrics.accuracy_score(y_test, yhat)))\n",
    "print(metrics.confusion_matrix(y_test, yhat) )\n",
    "print(\"\")\n",
    "print(\"Classification Report\")\n",
    "print(metrics.classification_report(y_test, yhat))\n",
    "print(metrics.recall_score(y_test, yhat))"
   ]
  },
  {
   "cell_type": "markdown",
   "metadata": {
    "id": "pfPytCDYM1le"
   },
   "source": [
    "# Additional Question: \n",
    "### Interpret and explain the parameters you have chosen to fine tune in LR algorithm.\n",
    "Type your answer in the cell bellow as the markdown format."
   ]
  },
  {
   "cell_type": "markdown",
   "metadata": {
    "id": "RmPs5O5RM1lf"
   },
   "source": [
    "### TO DO:\n"
   ]
  },
  {
   "cell_type": "markdown",
   "metadata": {
    "id": "c4zNUUR_M1lg",
    "outputId": "598e4d30-b9a5-457a-b149-14a651ccff1a"
   },
   "source": [
    "#TO DO:\n",
    "- C: Inverse of regularization strength, smaller values specify stronger regularization.\n",
    "- dual = False: Dual or primal formulation. Dual formulation is only implemented when n_samples > n_features.\n",
    "- fit_intercept = True:\n",
    "- intercept_scaling = 1.0: \n",
    "- penalty: Used to specify the norm used in the penalization."
   ]
  },
  {
   "cell_type": "markdown",
   "metadata": {
    "id": "xhThcwLYM1li"
   },
   "source": [
    "# Advanced part (15%  of the total score)"
   ]
  },
  {
   "cell_type": "markdown",
   "metadata": {
    "id": "eRc5JoN7M1lo"
   },
   "source": [
    "# Ensemble model"
   ]
  },
  {
   "cell_type": "markdown",
   "metadata": {
    "id": "8-eteyNxM1lo"
   },
   "source": [
    "### 19. Perform soft voting on the 4 above models (using the same setting for the 4 models as in previous steps.) \n",
    "**Hint**: Using VotingClassifier in sklearn.ensemble."
   ]
  },
  {
   "cell_type": "code",
   "execution_count": 30,
   "metadata": {
    "id": "G7FfposgM1lp"
   },
   "outputs": [],
   "source": [
    "from sklearn.ensemble import VotingClassifier\n",
    "from sklearn.model_selection import StratifiedShuffleSplit\n",
    "from sklearn.ensemble import RandomForestClassifier\n",
    "from sklearn.ensemble import GradientBoostingClassifier\n",
    "from sklearn.metrics import log_loss\n",
    "from scipy.optimize import minimize"
   ]
  },
  {
   "cell_type": "code",
   "execution_count": 31,
   "metadata": {},
   "outputs": [
    {
     "name": "stdout",
     "output_type": "stream",
     "text": [
      "F1 Score: 0.61 (+/- 0.12) [kNN]\n",
      "F1 Score: 0.65 (+/- 0.11) [SVC]\n",
      "F1 Score: 0.56 (+/- 0.16) [DT]\n",
      "F1 Score: 0.65 (+/- 0.10) [LR]\n",
      "F1 Score: 0.65 (+/- 0.12) [Ensemble]\n",
      "Jaccard score: 0.45 (+/- 0.13) [kNN]\n",
      "Jaccard score: 0.49 (+/- 0.13) [SVC]\n",
      "Jaccard score: 0.41 (+/- 0.16) [DT]\n",
      "Jaccard score: 0.49 (+/- 0.12) [LR]\n",
      "Jaccard score: 0.49 (+/- 0.14) [Ensemble]\n"
     ]
    }
   ],
   "source": [
    "from itertools import product\n",
    "from sklearn.ensemble import VotingClassifier\n",
    "from sklearn.model_selection import cross_val_score\n",
    "\n",
    "vc = VotingClassifier(estimators=[('knn', knn), ('svc', svm), ('dtc', dt), ('lr',lr)], voting='soft')\n",
    "for clf, label in zip([knn, svm, dt, lr, vc], ['kNN', 'SVC', 'DT', 'LR', 'Ensemble']):\n",
    "    scores = cross_val_score(clf, X_train, y_train, cv=27, scoring='f1')\n",
    "    print(\"F1 Score: %0.2f (+/- %0.2f) [%s]\" % (scores.mean(), scores.std(), label))\n",
    "    \n",
    "for clf, label in zip([knn, svm, dt, lr, vc], ['kNN', 'SVC', 'DT', 'LR', 'Ensemble']):\n",
    "    scores = cross_val_score(clf, X_train, y_train, cv=27, scoring='jaccard')\n",
    "    print(\"Jaccard score: %0.2f (+/- %0.2f) [%s]\" % (scores.mean(), scores.std(), label))"
   ]
  },
  {
   "cell_type": "code",
   "execution_count": 32,
   "metadata": {
    "scrolled": true
   },
   "outputs": [
    {
     "name": "stdout",
     "output_type": "stream",
     "text": [
      "KNN LogLoss 0.48626240528470793\n",
      "Support Vector Machine LogLoss 0.5054305682550427\n",
      "Decision Tree LogLoss 1.3112897773907939\n",
      "Logistic Regression LogLoss 0.5186390970433311\n"
     ]
    }
   ],
   "source": [
    "clfs = []\n",
    "\n",
    "print('KNN LogLoss {score}'.format(score=log_loss(y_test, knn.predict_proba(X_test))))\n",
    "clfs.append(knn)\n",
    "\n",
    "print('Support Vector Machine LogLoss {score}'.format(score=log_loss(y_test, svm.predict_proba(X_test))))\n",
    "clfs.append(svm)\n",
    "\n",
    "print('Decision Tree LogLoss {score}'.format(score=log_loss(y_test, dt.predict_proba(X_test))))\n",
    "clfs.append(dt)\n",
    "\n",
    "print('Logistic Regression LogLoss {score}'.format(score=log_loss(y_test, lr.predict_proba(X_test))))\n",
    "clfs.append(lr)\n"
   ]
  },
  {
   "cell_type": "markdown",
   "metadata": {
    "id": "vZu5N_i3M1lu"
   },
   "source": [
    "### 20. Run the prediction on the ensembling model using soft voting on training data and test data, then calculate the f1 score and Jaccard similarity score and save it to f1_scores dict and jaccard_scores dict.¶\n",
    "\n",
    "**Requirement**: F1 score on test data must be higher than **0.66**, Jaccard similarity score must be higher than **0.78**."
   ]
  },
  {
   "cell_type": "code",
   "execution_count": 33,
   "metadata": {},
   "outputs": [
    {
     "name": "stdout",
     "output_type": "stream",
     "text": [
      "Train set F1 Score:  0.6702412868632708\n",
      "Test set F1 Score:  0.54\n",
      "Train set Jaccard similarity score:  0.7484662576687117\n",
      "Test set Jaccard similarity score:  0.6377952755905512\n",
      "\n",
      "Accuracy: 0.7013\n",
      "[[81 19]\n",
      " [27 27]]\n",
      "\n",
      "Classification Report\n",
      "              precision    recall  f1-score   support\n",
      "\n",
      "           0       0.75      0.81      0.78       100\n",
      "           1       0.59      0.50      0.54        54\n",
      "\n",
      "    accuracy                           0.70       154\n",
      "   macro avg       0.67      0.66      0.66       154\n",
      "weighted avg       0.69      0.70      0.70       154\n",
      "\n",
      "0.5\n"
     ]
    }
   ],
   "source": [
    "vc = VotingClassifier(estimators=[('knn', knn), ('svc', svm), ('dtc', dt), ('lr',lr)], voting='soft')\n",
    "vc.fit(X_train, y_train)\n",
    "yhat = lr.predict(X_test)\n",
    "\n",
    "print(\"Train set F1 Score: \", metrics.f1_score(y_train, vc.predict(X_train)))\n",
    "print(\"Test set F1 Score: \", metrics.f1_score(y_test, yhat))\n",
    "print(\"Train set Jaccard similarity score: \", metrics.jaccard_score(y_train, vc.predict(X_train),pos_label = 0))\n",
    "print(\"Test set Jaccard similarity score: \", metrics.jaccard_score(y_test, yhat,pos_label = 0))\n",
    "\n",
    "print(\"\")\n",
    "print(\"Accuracy: {0:.4f}\".format(metrics.accuracy_score(y_test, yhat)))\n",
    "print(metrics.confusion_matrix(y_test, yhat) )\n",
    "print(\"\")\n",
    "print(\"Classification Report\")\n",
    "print(metrics.classification_report(y_test, yhat))\n",
    "print(metrics.recall_score(y_test, yhat))"
   ]
  },
  {
   "cell_type": "markdown",
   "metadata": {
    "id": "RmteU8YeM1l3"
   },
   "source": [
    "# Report\n",
    "You should be able to report the accuracy of the built model using different evaluation metrics:"
   ]
  },
  {
   "cell_type": "markdown",
   "metadata": {
    "id": "c3q0IThKM1l3"
   },
   "source": [
    "| Algorithm          | Jaccard-training | F1-score-training |Jaccard-testing | F1-score-testing |\n",
    "|--------------------|------------------|-------------------|----------------|------------------|\n",
    "| KNN                | ?                | ?                 |  ?             |  ?               |\n",
    "| Decision Tree      | ?                | ?                 |  ?             |  ?               |\n",
    "| SVM                | ?                | ?                 |  ?             |  ?               |\n",
    "| Logistic Regression| ?                | ?                 |  ?             |  ?               |\n",
    "| Hard Voting        | ?                | ?                 |  ?             |  ?               |\n",
    "| Soft Voting        | ?                | ?                 |  ?             |  ?               |\n"
   ]
  },
  {
   "cell_type": "markdown",
   "metadata": {
    "id": "PpqjW-eOM1l3"
   },
   "source": [
    "### 21. Create a data frame that describes the result as exactly as above."
   ]
  },
  {
   "cell_type": "code",
   "execution_count": 34,
   "metadata": {},
   "outputs": [
    {
     "name": "stdout",
     "output_type": "stream",
     "text": [
      "Train set F1 Score:  0.6368715083798882\n",
      "Test set F1 Score:  0.5806451612903226\n",
      "Train set Jaccard similarity score:  0.74\n",
      "Test set Jaccard similarity score:  0.6929133858267716\n",
      "Train set F1 Score:  0.6684350132625995\n",
      "Test set F1 Score:  0.5346534653465347\n",
      "Train set Jaccard similarity score:  0.7438524590163934\n",
      "Test set Jaccard similarity score:  0.6299212598425197\n",
      "Train set F1 Score:  0.7058823529411764\n",
      "Test set F1 Score:  0.7394957983193278\n",
      "Train set Jaccard similarity score:  0.6860986547085202\n",
      "Test set Jaccard similarity score:  0.7181818181818181\n",
      "Train set F1 Score:  0.6719160104986877\n",
      "Test set F1 Score:  0.54\n",
      "Train set Jaccard similarity score:  0.742798353909465\n",
      "Test set Jaccard similarity score:  0.6377952755905512\n",
      "Train set F1 Score:  0.6737967914438502\n",
      "Test set F1 Score:  0.5416666666666666\n",
      "Train set Jaccard similarity score:  0.75\n",
      "Test set Jaccard similarity score:  0.65625\n"
     ]
    }
   ],
   "source": [
    "for j in [knn,svm,dt,lr,vc]:\n",
    "        j.fit(X_train, y_train)\n",
    "        yhat = j.predict(X_test)\n",
    "        print(\"Train set F1 Score: \", metrics.f1_score(y_train, j.predict(X_train)))\n",
    "        print(\"Test set F1 Score: \", metrics.f1_score(y_test, yhat))\n",
    "        print(\"Train set Jaccard similarity score: \", metrics.jaccard_score(y_train, j.predict(X_train),pos_label = 0))\n",
    "        print(\"Test set Jaccard similarity score: \", metrics.jaccard_score(y_test, yhat,pos_label = 0))        "
   ]
  },
  {
   "cell_type": "code",
   "execution_count": 35,
   "metadata": {
    "id": "pI3_EsgtM1l4",
    "outputId": "4fe78116-eccf-4762-c9e8-74175b6381fa"
   },
   "outputs": [
    {
     "data": {
      "text/html": [
       "<div>\n",
       "<style scoped>\n",
       "    .dataframe tbody tr th:only-of-type {\n",
       "        vertical-align: middle;\n",
       "    }\n",
       "\n",
       "    .dataframe tbody tr th {\n",
       "        vertical-align: top;\n",
       "    }\n",
       "\n",
       "    .dataframe thead th {\n",
       "        text-align: right;\n",
       "    }\n",
       "</style>\n",
       "<table border=\"1\" class=\"dataframe\">\n",
       "  <thead>\n",
       "    <tr style=\"text-align: right;\">\n",
       "      <th></th>\n",
       "      <th>Algorithm</th>\n",
       "      <th>Jaccard-training</th>\n",
       "      <th>F1-score-training</th>\n",
       "      <th>Jaccard-testing</th>\n",
       "      <th>F1-score-testing</th>\n",
       "    </tr>\n",
       "  </thead>\n",
       "  <tbody>\n",
       "    <tr>\n",
       "      <th>0</th>\n",
       "      <td>KNN</td>\n",
       "      <td>0.740000</td>\n",
       "      <td>0.636872</td>\n",
       "      <td>0.692913</td>\n",
       "      <td>0.580645</td>\n",
       "    </tr>\n",
       "    <tr>\n",
       "      <th>1</th>\n",
       "      <td>Decision Tree</td>\n",
       "      <td>0.743852</td>\n",
       "      <td>0.668435</td>\n",
       "      <td>0.629921</td>\n",
       "      <td>0.534653</td>\n",
       "    </tr>\n",
       "    <tr>\n",
       "      <th>2</th>\n",
       "      <td>SVM</td>\n",
       "      <td>0.686099</td>\n",
       "      <td>0.705882</td>\n",
       "      <td>0.718182</td>\n",
       "      <td>0.739496</td>\n",
       "    </tr>\n",
       "    <tr>\n",
       "      <th>3</th>\n",
       "      <td>Logistic Regression</td>\n",
       "      <td>0.742798</td>\n",
       "      <td>0.671916</td>\n",
       "      <td>0.637795</td>\n",
       "      <td>0.540000</td>\n",
       "    </tr>\n",
       "    <tr>\n",
       "      <th>4</th>\n",
       "      <td>Soft Voting</td>\n",
       "      <td>0.748466</td>\n",
       "      <td>0.670241</td>\n",
       "      <td>0.656250</td>\n",
       "      <td>0.541667</td>\n",
       "    </tr>\n",
       "  </tbody>\n",
       "</table>\n",
       "</div>"
      ],
      "text/plain": [
       "             Algorithm  Jaccard-training  F1-score-training  Jaccard-testing  \\\n",
       "0                  KNN          0.740000           0.636872         0.692913   \n",
       "1        Decision Tree          0.743852           0.668435         0.629921   \n",
       "2                  SVM          0.686099           0.705882         0.718182   \n",
       "3  Logistic Regression          0.742798           0.671916         0.637795   \n",
       "4          Soft Voting          0.748466           0.670241         0.656250   \n",
       "\n",
       "   F1-score-testing  \n",
       "0          0.580645  \n",
       "1          0.534653  \n",
       "2          0.739496  \n",
       "3          0.540000  \n",
       "4          0.541667  "
      ]
     },
     "execution_count": 35,
     "metadata": {},
     "output_type": "execute_result"
    }
   ],
   "source": [
    "#TO DO:\n",
    "# Define column names\n",
    "colNames = ('Algorithm','Jaccard-training','F1-score-training','Jaccard-testing','F1-score-testing')\n",
    "\n",
    "# Define a dataframe with the required column names\n",
    "masterDF = pd.DataFrame(columns = colNames)\n",
    "\n",
    "# A list of the group names\n",
    "names = ['KNN','Decision Tree','SVM','Logistic Regression','Soft Voting']\n",
    "\n",
    "# Create a dataframe for each group\n",
    "for i in [names]:\n",
    "    tempDF = pd.DataFrame(columns = colNames)\n",
    "    tempDF['Algorithm'] = i\n",
    "    for j in [knn,svm,dt,lr,vc]:\n",
    "        j.fit(X_train, y_train)\n",
    "        yhat = j.predict(X_test)\n",
    "        tempDF['Jaccard-training'] = [metrics.jaccard_score(y_train,\n",
    "                                                            j.predict(X_train),pos_label = 0) \n",
    "                                                            for j in [knn,svm,dt,lr,vc]]\n",
    "        \n",
    "        tempDF['F1-score-training'] = [metrics.f1_score(y_train, j.predict(X_train)) \n",
    "                                                        for j in [knn,svm,dt,lr,vc]]\n",
    "        \n",
    "        tempDF['Jaccard-testing'] = [metrics.jaccard_score(y_test, j.fit(X_train, y_train).predict(X_test),\n",
    "                                                           pos_label = 0) for j in [knn,svm,dt,lr,vc]]\n",
    "        \n",
    "        tempDF['F1-score-testing'] = [metrics.f1_score(y_test, \n",
    "                                                       j.fit(X_train, y_train).predict(X_test))\n",
    "                                                       for j in [knn,svm,dt,lr,vc]]\n",
    "    \n",
    "    # Try to append temporary DF to master DF\n",
    "    masterDF = masterDF.append(tempDF,ignore_index=True)\n",
    "\n",
    "masterDF"
   ]
  },
  {
   "cell_type": "markdown",
   "metadata": {
    "id": "TYifTRP7M1l5"
   },
   "source": [
    "# Additional Question: \n",
    "### Are ensemble methods always better than a single model? If not, explain why?\n",
    "Type your answer in the cell bellow as the markdown format.\n",
    "\t"
   ]
  },
  {
   "cell_type": "markdown",
   "metadata": {
    "id": "450BrJ44M1l6"
   },
   "source": [
    "### TO DO:\n",
    "In order to improve accuracy over a single model, the base classifiers in an ensemble must be diverse (meaning they must make different mistakes)."
   ]
  }
 ],
 "metadata": {
  "colab": {
   "collapsed_sections": [
    "2yXSkeUjM1kr",
    "qaJt1GeEM1lA",
    "450BrJ44M1l6"
   ],
   "name": "DSP303x_01_EN_2_Starter_Code.ipynb",
   "provenance": []
  },
  "kernelspec": {
   "display_name": "Python 3",
   "language": "python",
   "name": "python3"
  },
  "language_info": {
   "codemirror_mode": {
    "name": "ipython",
    "version": 3
   },
   "file_extension": ".py",
   "mimetype": "text/x-python",
   "name": "python",
   "nbconvert_exporter": "python",
   "pygments_lexer": "ipython3",
   "version": "3.8.5"
  }
 },
 "nbformat": 4,
 "nbformat_minor": 1
}
